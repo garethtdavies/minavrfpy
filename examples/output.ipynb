{
 "cells": [
  {
   "cell_type": "code",
   "execution_count": 14,
   "id": "8ff8b803",
   "metadata": {},
   "outputs": [
    {
     "name": "stdout",
     "output_type": "stream",
     "text": [
      "The blackcellmagic extension is already loaded. To reload it, use:\n",
      "  %reload_ext blackcellmagic\n",
      "The autoreload extension is already loaded. To reload it, use:\n",
      "  %reload_ext autoreload\n"
     ]
    }
   ],
   "source": [
    "%matplotlib inline\n",
    "%load_ext blackcellmagic\n",
    "%load_ext autoreload\n",
    "%autoreload 2"
   ]
  },
  {
   "cell_type": "code",
   "execution_count": 15,
   "id": "61d997ca",
   "metadata": {},
   "outputs": [],
   "source": [
    "import pickle\n",
    "import seaborn as sns\n",
    "import matplotlib.pyplot as plt\n",
    "\n",
    "from scipy.stats import binom\n",
    "import pandas as pd\n",
    "import numpy as np\n",
    "\n",
    "from minavrfpy import lib"
   ]
  },
  {
   "cell_type": "markdown",
   "id": "f1e3d196",
   "metadata": {},
   "source": [
    "## single epoch"
   ]
  },
  {
   "cell_type": "code",
   "execution_count": 16,
   "id": "54d2da3f",
   "metadata": {},
   "outputs": [],
   "source": [
    "epoch = 18\n",
    "bp_key = \"B62qpge4uMq4Vv5Rvc8Gw9qSquUYd6xoW1pz7HQkMSHm6h1o7pvLPAN\"\n",
    "\n",
    "results = lib.get_epoch_df(epoch, block_producer_key=bp_key)\n",
    "\n",
    "df = results['df']\n",
    "stakes_df = results['stakes_df']"
   ]
  },
  {
   "cell_type": "markdown",
   "id": "a925542b",
   "metadata": {},
   "source": [
    "## outcome per epoch"
   ]
  },
  {
   "cell_type": "code",
   "execution_count": 17,
   "id": "58a5ba86",
   "metadata": {},
   "outputs": [
    {
     "data": {
      "image/png": "[encoded data removed]",
      "text/plain": [
       "<Figure size 576x360 with 1 Axes>"
      ]
     },
     "metadata": {},
     "output_type": "display_data"
    }
   ],
   "source": [
    "sns.set(rc={\"figure.figsize\": (8, 5)})\n",
    "\n",
    "\n",
    "counts_df = (\n",
    "    df.groupby(\"epoch\")\n",
    "    .outcome.value_counts()\n",
    "    .to_frame()\n",
    "    .rename(columns={\"outcome\": \"outcome_count\"})\n",
    "    .reset_index()\n",
    ")\n",
    "\n",
    "ax = sns.barplot(x=\"epoch\", y=\"outcome_count\", data=counts_df, hue=\"outcome\")\n",
    "ax.set_title(\"All Slots\")\n",
    "for container in ax.containers:\n",
    "    ax.bar_label(container)"
   ]
  },
  {
   "cell_type": "markdown",
   "id": "e9813d2d",
   "metadata": {},
   "source": [
    "## outcome grouped by super_charged"
   ]
  },
  {
   "cell_type": "code",
   "execution_count": 18,
   "id": "c91da8fe",
   "metadata": {},
   "outputs": [
    {
     "data": {
      "text/plain": [
       "epoch  super_charged  outcome           \n",
       "27     False          WON                    98\n",
       "                      LOST                   73\n",
       "       True           WON                   130\n",
       "                      LOST                   80\n",
       "                      MISSED_HEIGHT_DIFF      1\n",
       "Name: outcome, dtype: int64"
      ]
     },
     "execution_count": 18,
     "metadata": {},
     "output_type": "execute_result"
    }
   ],
   "source": [
    "df.groupby([\"epoch\", \"super_charged\"]).outcome.value_counts()"
   ]
  },
  {
   "cell_type": "code",
   "execution_count": 19,
   "id": "daa243ea",
   "metadata": {},
   "outputs": [
    {
     "data": {
      "image/png": "[encoded data removed]",
      "text/plain": [
       "<Figure size 576x360 with 1 Axes>"
      ]
     },
     "metadata": {},
     "output_type": "display_data"
    }
   ],
   "source": [
    "sns.set(rc={\"figure.figsize\": (8, 5)})\n",
    "\n",
    "\n",
    "counts_df = (\n",
    "    df[df.super_charged == True].groupby(\"epoch\")\n",
    "    .outcome.value_counts()\n",
    "    .to_frame()\n",
    "    .rename(columns={\"outcome\": \"outcome_count\"})\n",
    "    .reset_index()\n",
    ")\n",
    "\n",
    "ax = sns.barplot(x=\"epoch\", y=\"outcome_count\", data=counts_df, hue=\"outcome\")\n",
    "ax.set_title(\"Supercharged Slots\")\n",
    "for container in ax.containers:\n",
    "    ax.bar_label(container)"
   ]
  },
  {
   "cell_type": "code",
   "execution_count": 20,
   "id": "5babe6c5",
   "metadata": {},
   "outputs": [
    {
     "data": {
      "text/html": [
       "<div>\n",
       "<style scoped>\n",
       "    .dataframe tbody tr th:only-of-type {\n",
       "        vertical-align: middle;\n",
       "    }\n",
       "\n",
       "    .dataframe tbody tr th {\n",
       "        vertical-align: top;\n",
       "    }\n",
       "\n",
       "    .dataframe thead th {\n",
       "        text-align: right;\n",
       "    }\n",
       "</style>\n",
       "<table border=\"1\" class=\"dataframe\">\n",
       "  <thead>\n",
       "    <tr style=\"text-align: right;\">\n",
       "      <th></th>\n",
       "      <th>epoch</th>\n",
       "      <th>slot</th>\n",
       "      <th>global_slot</th>\n",
       "      <th>block</th>\n",
       "      <th>winner_exists</th>\n",
       "      <th>saw_my_producer</th>\n",
       "      <th>bp_won</th>\n",
       "      <th>block_time</th>\n",
       "      <th>received_time</th>\n",
       "      <th>winner_pk</th>\n",
       "      <th>super_charged</th>\n",
       "      <th>block_height_equal</th>\n",
       "      <th>too_late</th>\n",
       "      <th>min_bt</th>\n",
       "      <th>min_bt_minutes</th>\n",
       "      <th>outcome</th>\n",
       "      <th>next_block_in</th>\n",
       "    </tr>\n",
       "  </thead>\n",
       "  <tbody>\n",
       "  </tbody>\n",
       "</table>\n",
       "</div>"
      ],
      "text/plain": [
       "Empty DataFrame\n",
       "Columns: [epoch, slot, global_slot, block, winner_exists, saw_my_producer, bp_won, block_time, received_time, winner_pk, super_charged, block_height_equal, too_late, min_bt, min_bt_minutes, outcome, next_block_in]\n",
       "Index: []"
      ]
     },
     "execution_count": 20,
     "metadata": {},
     "output_type": "execute_result"
    }
   ],
   "source": [
    "df[df.outcome == \"MISSED_NOT_PRODUCED\"]"
   ]
  },
  {
   "cell_type": "code",
   "execution_count": 21,
   "id": "369dd2e8",
   "metadata": {},
   "outputs": [
    {
     "data": {
      "text/html": [
       "<div>\n",
       "<style scoped>\n",
       "    .dataframe tbody tr th:only-of-type {\n",
       "        vertical-align: middle;\n",
       "    }\n",
       "\n",
       "    .dataframe tbody tr th {\n",
       "        vertical-align: top;\n",
       "    }\n",
       "\n",
       "    .dataframe thead th {\n",
       "        text-align: right;\n",
       "    }\n",
       "</style>\n",
       "<table border=\"1\" class=\"dataframe\">\n",
       "  <thead>\n",
       "    <tr style=\"text-align: right;\">\n",
       "      <th></th>\n",
       "      <th>epoch</th>\n",
       "      <th>slot</th>\n",
       "      <th>global_slot</th>\n",
       "      <th>block</th>\n",
       "      <th>winner_exists</th>\n",
       "      <th>saw_my_producer</th>\n",
       "      <th>bp_won</th>\n",
       "      <th>block_time</th>\n",
       "      <th>received_time</th>\n",
       "      <th>winner_pk</th>\n",
       "      <th>super_charged</th>\n",
       "      <th>block_height_equal</th>\n",
       "      <th>too_late</th>\n",
       "      <th>min_bt</th>\n",
       "      <th>min_bt_minutes</th>\n",
       "      <th>outcome</th>\n",
       "      <th>next_block_in</th>\n",
       "    </tr>\n",
       "  </thead>\n",
       "  <tbody>\n",
       "  </tbody>\n",
       "</table>\n",
       "</div>"
      ],
      "text/plain": [
       "Empty DataFrame\n",
       "Columns: [epoch, slot, global_slot, block, winner_exists, saw_my_producer, bp_won, block_time, received_time, winner_pk, super_charged, block_height_equal, too_late, min_bt, min_bt_minutes, outcome, next_block_in]\n",
       "Index: []"
      ]
     },
     "execution_count": 21,
     "metadata": {},
     "output_type": "execute_result"
    }
   ],
   "source": [
    "df[df.outcome == \"LOST_NOT_PRODUCED\"]"
   ]
  },
  {
   "cell_type": "code",
   "execution_count": 22,
   "id": "d6d5965f",
   "metadata": {},
   "outputs": [
    {
     "data": {
      "text/html": [
       "<div>\n",
       "<style scoped>\n",
       "    .dataframe tbody tr th:only-of-type {\n",
       "        vertical-align: middle;\n",
       "    }\n",
       "\n",
       "    .dataframe tbody tr th {\n",
       "        vertical-align: top;\n",
       "    }\n",
       "\n",
       "    .dataframe thead th {\n",
       "        text-align: right;\n",
       "    }\n",
       "</style>\n",
       "<table border=\"1\" class=\"dataframe\">\n",
       "  <thead>\n",
       "    <tr style=\"text-align: right;\">\n",
       "      <th></th>\n",
       "      <th>epoch</th>\n",
       "      <th>slot</th>\n",
       "      <th>global_slot</th>\n",
       "      <th>block</th>\n",
       "      <th>winner_exists</th>\n",
       "      <th>saw_my_producer</th>\n",
       "      <th>bp_won</th>\n",
       "      <th>block_time</th>\n",
       "      <th>received_time</th>\n",
       "      <th>winner_pk</th>\n",
       "      <th>super_charged</th>\n",
       "      <th>block_height_equal</th>\n",
       "      <th>too_late</th>\n",
       "      <th>min_bt</th>\n",
       "      <th>min_bt_minutes</th>\n",
       "      <th>outcome</th>\n",
       "      <th>next_block_in</th>\n",
       "    </tr>\n",
       "  </thead>\n",
       "  <tbody>\n",
       "    <tr>\n",
       "      <th>116</th>\n",
       "      <td>27</td>\n",
       "      <td>2117</td>\n",
       "      <td>194897</td>\n",
       "      <td>132007</td>\n",
       "      <td>True</td>\n",
       "      <td>True</td>\n",
       "      <td>False</td>\n",
       "      <td>[0 days 00:01:20.112000]</td>\n",
       "      <td>2022-04-27 00:52:30.580000+00:00</td>\n",
       "      <td>B62qoKdUvUfanwaUWNTV5xf81wdB46swHjkZa77tYdBCbS...</td>\n",
       "      <td>True</td>\n",
       "      <td>False</td>\n",
       "      <td>False</td>\n",
       "      <td>0 days 00:01:20.112000</td>\n",
       "      <td>1.333333</td>\n",
       "      <td>MISSED_HEIGHT_DIFF</td>\n",
       "      <td>NaN</td>\n",
       "    </tr>\n",
       "  </tbody>\n",
       "</table>\n",
       "</div>"
      ],
      "text/plain": [
       "     epoch  slot  global_slot   block  winner_exists  saw_my_producer  bp_won  \\\n",
       "116     27  2117       194897  132007           True             True   False   \n",
       "\n",
       "                   block_time                    received_time  \\\n",
       "116  [0 days 00:01:20.112000] 2022-04-27 00:52:30.580000+00:00   \n",
       "\n",
       "                                             winner_pk  super_charged  \\\n",
       "116  B62qoKdUvUfanwaUWNTV5xf81wdB46swHjkZa77tYdBCbS...           True   \n",
       "\n",
       "     block_height_equal  too_late                 min_bt  min_bt_minutes  \\\n",
       "116               False     False 0 days 00:01:20.112000        1.333333   \n",
       "\n",
       "                outcome  next_block_in  \n",
       "116  MISSED_HEIGHT_DIFF            NaN  "
      ]
     },
     "execution_count": 22,
     "metadata": {},
     "output_type": "execute_result"
    }
   ],
   "source": [
    "df[df.outcome == \"MISSED_HEIGHT_DIFF\"]"
   ]
  },
  {
   "cell_type": "code",
   "execution_count": 23,
   "id": "d1923950",
   "metadata": {},
   "outputs": [
    {
     "data": {
      "text/html": [
       "<div>\n",
       "<style scoped>\n",
       "    .dataframe tbody tr th:only-of-type {\n",
       "        vertical-align: middle;\n",
       "    }\n",
       "\n",
       "    .dataframe tbody tr th {\n",
       "        vertical-align: top;\n",
       "    }\n",
       "\n",
       "    .dataframe thead th {\n",
       "        text-align: right;\n",
       "    }\n",
       "</style>\n",
       "<table border=\"1\" class=\"dataframe\">\n",
       "  <thead>\n",
       "    <tr style=\"text-align: right;\">\n",
       "      <th></th>\n",
       "      <th>epoch</th>\n",
       "      <th>slot</th>\n",
       "      <th>global_slot</th>\n",
       "      <th>block</th>\n",
       "      <th>winner_exists</th>\n",
       "      <th>saw_my_producer</th>\n",
       "      <th>bp_won</th>\n",
       "      <th>block_time</th>\n",
       "      <th>received_time</th>\n",
       "      <th>winner_pk</th>\n",
       "      <th>super_charged</th>\n",
       "      <th>block_height_equal</th>\n",
       "      <th>too_late</th>\n",
       "      <th>min_bt</th>\n",
       "      <th>min_bt_minutes</th>\n",
       "      <th>outcome</th>\n",
       "      <th>next_block_in</th>\n",
       "    </tr>\n",
       "  </thead>\n",
       "  <tbody>\n",
       "  </tbody>\n",
       "</table>\n",
       "</div>"
      ],
      "text/plain": [
       "Empty DataFrame\n",
       "Columns: [epoch, slot, global_slot, block, winner_exists, saw_my_producer, bp_won, block_time, received_time, winner_pk, super_charged, block_height_equal, too_late, min_bt, min_bt_minutes, outcome, next_block_in]\n",
       "Index: []"
      ]
     },
     "execution_count": 23,
     "metadata": {},
     "output_type": "execute_result"
    }
   ],
   "source": [
    "df[df.outcome == \"LOST UNEXPLAINED\"]"
   ]
  },
  {
   "cell_type": "code",
   "execution_count": 24,
   "id": "37ea2455",
   "metadata": {},
   "outputs": [
    {
     "data": {
      "text/html": [
       "<div>\n",
       "<style scoped>\n",
       "    .dataframe tbody tr th:only-of-type {\n",
       "        vertical-align: middle;\n",
       "    }\n",
       "\n",
       "    .dataframe tbody tr th {\n",
       "        vertical-align: top;\n",
       "    }\n",
       "\n",
       "    .dataframe thead th {\n",
       "        text-align: right;\n",
       "    }\n",
       "</style>\n",
       "<table border=\"1\" class=\"dataframe\">\n",
       "  <thead>\n",
       "    <tr style=\"text-align: right;\">\n",
       "      <th></th>\n",
       "      <th>epoch</th>\n",
       "      <th>slot</th>\n",
       "      <th>global_slot</th>\n",
       "      <th>block</th>\n",
       "      <th>winner_exists</th>\n",
       "      <th>saw_my_producer</th>\n",
       "      <th>bp_won</th>\n",
       "      <th>block_time</th>\n",
       "      <th>received_time</th>\n",
       "      <th>winner_pk</th>\n",
       "      <th>super_charged</th>\n",
       "      <th>block_height_equal</th>\n",
       "      <th>too_late</th>\n",
       "      <th>min_bt</th>\n",
       "      <th>min_bt_minutes</th>\n",
       "      <th>outcome</th>\n",
       "      <th>next_block_in</th>\n",
       "    </tr>\n",
       "  </thead>\n",
       "  <tbody>\n",
       "  </tbody>\n",
       "</table>\n",
       "</div>"
      ],
      "text/plain": [
       "Empty DataFrame\n",
       "Columns: [epoch, slot, global_slot, block, winner_exists, saw_my_producer, bp_won, block_time, received_time, winner_pk, super_charged, block_height_equal, too_late, min_bt, min_bt_minutes, outcome, next_block_in]\n",
       "Index: []"
      ]
     },
     "execution_count": 24,
     "metadata": {},
     "output_type": "execute_result"
    }
   ],
   "source": [
    "df[df.outcome == \"LOST BUT WON VRF\"]"
   ]
  },
  {
   "cell_type": "markdown",
   "id": "ed2b008b",
   "metadata": {},
   "source": [
    "## slot luck\n",
    "try to visualize \"slot luck\"\n"
   ]
  },
  {
   "cell_type": "code",
   "execution_count": 25,
   "id": "83f7b677",
   "metadata": {
    "scrolled": false
   },
   "outputs": [
    {
     "name": "stdout",
     "output_type": "stream",
     "text": [
      "epoch 27 - expected 391 slots - got 382... \n"
     ]
    },
    {
     "data": {
      "image/png": "[encoded data removed]",
      "text/plain": [
       "<Figure size 720x720 with 1 Axes>"
      ]
     },
     "metadata": {},
     "output_type": "display_data"
    },
    {
     "data": {
      "text/plain": [
       "<Figure size 576x360 with 0 Axes>"
      ]
     },
     "metadata": {},
     "output_type": "display_data"
    }
   ],
   "source": [
    "fig, ax = plt.subplots(1, 1, figsize=(10, 10))\n",
    "\n",
    "SLOTS_PER_EPOCH = 7140\n",
    "\n",
    "def get_slot_win_perc(stake, total_currency):\n",
    "    return (1 - ((1 / 4) ** (stake / total_currency)))\n",
    "\n",
    "\n",
    "epoch_data = []\n",
    "\n",
    "total_currency = results['epoch_data']['total_currency']\n",
    "total_staking_balance = results['stakes_df'].balance.sum()\n",
    "\n",
    "slot_win_pct = get_slot_win_perc(\n",
    "    total_staking_balance, total_currency\n",
    ")    \n",
    "expected_blocks_value = slot_win_pct * SLOTS_PER_EPOCH \n",
    "\n",
    "won_blocks = df[(df.epoch == epoch) & (df.outcome == 'WON')].block.count()\n",
    "slots_won = df[(df.epoch == epoch)].slot.nunique()\n",
    "\n",
    "data = binom.rvs(n=SLOTS_PER_EPOCH, p=slot_win_pct, size=100000)\n",
    "\n",
    "k = np.arange(int(expected_blocks_value - 50), int(expected_blocks_value) + 50, 1)\n",
    "\n",
    "plt.figure(epoch)\n",
    "\n",
    "sns.histplot(data, kde=True, bins=k, ax=ax)\n",
    "ax.axvline(slots_won, 0, 1, color=\"r\")\n",
    "ax.set_title(f\"epoch {epoch}\")\n",
    "\n",
    "epoch_data.append({\n",
    "    'epoch': epoch,\n",
    "    'expected_slots': expected_blocks_value,\n",
    "    'expected_slots_binom': binom(SLOTS_PER_EPOCH, slot_win_pct).expect(),\n",
    "    'slot_win_pct': slot_win_pct,\n",
    "    'won_slots': slots_won,\n",
    "    'won_blocks': won_blocks,\n",
    "    'orphan_rate': 1 - (won_blocks/slots_won)\n",
    "})\n",
    "\n",
    "print(f\"epoch {epoch} - expected {round(expected_blocks_value)} slots - got {slots_won}... \")\n",
    "\n",
    "\n",
    "plt.show()"
   ]
  },
  {
   "cell_type": "code",
   "execution_count": 26,
   "id": "a7570509",
   "metadata": {},
   "outputs": [
    {
     "data": {
      "text/html": [
       "<div>\n",
       "<style scoped>\n",
       "    .dataframe tbody tr th:only-of-type {\n",
       "        vertical-align: middle;\n",
       "    }\n",
       "\n",
       "    .dataframe tbody tr th {\n",
       "        vertical-align: top;\n",
       "    }\n",
       "\n",
       "    .dataframe thead th {\n",
       "        text-align: right;\n",
       "    }\n",
       "</style>\n",
       "<table border=\"1\" class=\"dataframe\">\n",
       "  <thead>\n",
       "    <tr style=\"text-align: right;\">\n",
       "      <th></th>\n",
       "      <th>epoch</th>\n",
       "      <th>expected_slots</th>\n",
       "      <th>expected_slots_binom</th>\n",
       "      <th>slot_win_pct</th>\n",
       "      <th>won_slots</th>\n",
       "      <th>won_blocks</th>\n",
       "      <th>orphan_rate</th>\n",
       "      <th>cdf</th>\n",
       "    </tr>\n",
       "  </thead>\n",
       "  <tbody>\n",
       "    <tr>\n",
       "      <th>0</th>\n",
       "      <td>27</td>\n",
       "      <td>390.704345</td>\n",
       "      <td>390.704345</td>\n",
       "      <td>0.05472</td>\n",
       "      <td>382</td>\n",
       "      <td>228</td>\n",
       "      <td>0.403141</td>\n",
       "      <td>0.337032</td>\n",
       "    </tr>\n",
       "  </tbody>\n",
       "</table>\n",
       "</div>"
      ],
      "text/plain": [
       "   epoch  expected_slots  expected_slots_binom  slot_win_pct  won_slots  \\\n",
       "0     27      390.704345            390.704345       0.05472        382   \n",
       "\n",
       "   won_blocks  orphan_rate       cdf  \n",
       "0         228     0.403141  0.337032  "
      ]
     },
     "execution_count": 26,
     "metadata": {},
     "output_type": "execute_result"
    }
   ],
   "source": [
    "epoch_slots_df = pd.DataFrame(epoch_data)\n",
    "\n",
    "epoch_slots_df[\"cdf\"] = epoch_slots_df.apply(\n",
    "    lambda row: binom.cdf(row[\"won_slots\"], SLOTS_PER_EPOCH, row[\"slot_win_pct\"]),\n",
    "    axis=1,\n",
    ")\n",
    "epoch_slots_df"
   ]
  },
  {
   "cell_type": "code",
   "execution_count": null,
   "id": "f3fc2c62",
   "metadata": {},
   "outputs": [],
   "source": []
  }
 ],
 "metadata": {
  "interpreter": {
   "hash": "491a9dd2f197f48e68b960002e7efd1291705a2417abdbcfaba001ec3c58d3dc"
  },
  "kernelspec": {
   "display_name": "Python 3.9.12 ('.venv': venv)",
   "language": "python",
   "name": "python3"
  },
  "language_info": {
   "codemirror_mode": {
    "name": "ipython",
    "version": 3
   },
   "file_extension": ".py",
   "mimetype": "text/x-python",
   "name": "python",
   "nbconvert_exporter": "python",
   "pygments_lexer": "ipython3",
   "version": "3.9.12"
  },
  "vscode": {
   "interpreter": {
    "hash": "110cc1dee26208153f2972f08a2ad52b6a56238dc66d48e87fb757ef2996db56"
   }
  }
 },
 "nbformat": 4,
 "nbformat_minor": 5
}
